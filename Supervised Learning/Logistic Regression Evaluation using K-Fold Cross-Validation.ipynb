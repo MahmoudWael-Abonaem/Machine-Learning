{
 "cells": [
  {
   "cell_type": "markdown",
   "id": "d73a5ab0",
   "metadata": {},
   "source": [
    "## Imports"
   ]
  },
  {
   "cell_type": "code",
   "execution_count": 1,
   "id": "c982405b",
   "metadata": {},
   "outputs": [],
   "source": [
    "import numpy as np\n",
    "from sklearn.datasets import fetch_openml\n",
    "from sklearn.preprocessing import StandardScaler"
   ]
  },
  {
   "cell_type": "markdown",
   "id": "f8382b4a",
   "metadata": {},
   "source": [
    "## Loading and Preprocessing MNIST Dataset"
   ]
  },
  {
   "cell_type": "code",
   "execution_count": 2,
   "id": "73a41d7a",
   "metadata": {},
   "outputs": [],
   "source": [
    "mnist = fetch_openml('mnist_784', version=1, as_frame=False)\n",
    "\n",
    "# Subsetting the dataset to only include class '0' and class '1'\n",
    "X = mnist.data[(mnist.target == '0') | (mnist.target == '1')]  \n",
    "Y = mnist.target[(mnist.target == '0') | (mnist.target == '1')].astype(int)\n",
    "\n",
    "# Standardizing the features\n",
    "scaler = StandardScaler()\n",
    "X = scaler.fit_transform(X)"
   ]
  },
  {
   "cell_type": "markdown",
   "id": "9b259eda",
   "metadata": {},
   "source": [
    "## Defining the Sigmoid Activation Function"
   ]
  },
  {
   "cell_type": "code",
   "execution_count": 3,
   "id": "1e4c91d4",
   "metadata": {},
   "outputs": [],
   "source": [
    "def sigmoid(z):\n",
    "    # Clip z to avoid overflow in exp\n",
    "    z = np.clip(z, -500, 500)\n",
    "    return 1 / (1 + np.exp(-z))"
   ]
  },
  {
   "cell_type": "markdown",
   "id": "1f7b49ea",
   "metadata": {},
   "source": [
    "## Defining the Accuracy Metric"
   ]
  },
  {
   "cell_type": "code",
   "execution_count": 4,
   "id": "bb7bb3d8",
   "metadata": {},
   "outputs": [],
   "source": [
    "def accuracy(y_true, y_pred):\n",
    "    preds = (y_pred >= 0.5).astype(int)\n",
    "    return np.mean(preds == y_true)"
   ]
  },
  {
   "cell_type": "markdown",
   "id": "32b711dd",
   "metadata": {},
   "source": [
    "## Implementing the Logistic Regression Algorithm"
   ]
  },
  {
   "cell_type": "code",
   "execution_count": 5,
   "id": "4bc7fd70",
   "metadata": {},
   "outputs": [],
   "source": [
    "def logistic_regression(X, Y, learning_rate, epochs=1000):\n",
    "\n",
    "    np.random.seed(42)\n",
    "    # Initializing Weights and Bias with Random Values\n",
    "    w = np.random.randn(X.shape[1]) \n",
    "    b = np.random.randn()\n",
    "\n",
    "    for epoch in range(epochs):\n",
    "        Z = np.dot(X, w) + b \n",
    "        phiZ = sigmoid(Z)\n",
    "        # Clipping phiZ to avoid log(0) issues\n",
    "        clipped_PhiZ = np.clip(phiZ, 1e-15, 1 - 1e-15)\n",
    "        # Cross Entropy Loss Function\n",
    "        Loss = np.mean((-Y * np.log(clipped_PhiZ)) - ((1 - Y) * np.log(1 - clipped_PhiZ))) \n",
    "        # Gradient Descent Update for Weights\n",
    "        w = w - (learning_rate * ((phiZ - Y).T @ X) / len(Y))\n",
    "        # Gradient Descent Update for Bias\n",
    "        b = b - learning_rate * np.mean(phiZ - Y) \n",
    "        # Early Stopping Condition                         \n",
    "        if Loss <= 10**-8: \n",
    "            break \n",
    "    return w, b"
   ]
  },
  {
   "cell_type": "markdown",
   "id": "d2824ebf",
   "metadata": {},
   "source": [
    "## K-Fold Cross Validation Split"
   ]
  },
  {
   "cell_type": "code",
   "execution_count": 6,
   "id": "3b978547",
   "metadata": {},
   "outputs": [],
   "source": [
    "def k_fold_split(X, Y, k=10):\n",
    "    indices = np.arange(len(X))\n",
    "    np.random.shuffle(indices)\n",
    "    fold_size = len(X) // k\n",
    "    folds = []\n",
    "\n",
    "    for i in range(k):\n",
    "        val_idx = indices[i * fold_size:(i + 1) * fold_size]\n",
    "        train_idx = np.setdiff1d(indices, val_idx)\n",
    "        folds.append((train_idx, val_idx))\n",
    "    return folds"
   ]
  },
  {
   "cell_type": "markdown",
   "id": "826cafa5",
   "metadata": {},
   "source": [
    "## Evaluating the Model with Cross-Validation"
   ]
  },
  {
   "cell_type": "code",
   "execution_count": 7,
   "id": "2b52895e",
   "metadata": {},
   "outputs": [],
   "source": [
    "def evaluate_model(X, Y, learning_rate, folds):\n",
    "    acc_scores = []\n",
    "    for train_idx, val_idx in folds:\n",
    "        X_train, Y_train = X[train_idx], Y[train_idx]\n",
    "        X_val, Y_val = X[val_idx], Y[val_idx]\n",
    "\n",
    "        # Train on training fold\n",
    "        w, b = logistic_regression(X_train, Y_train, learning_rate)\n",
    "\n",
    "        # Validate\n",
    "        Z = np.dot(X_val, w) + b\n",
    "        Y_pred = sigmoid(Z)\n",
    "        acc_scores.append(accuracy(Y_val, Y_pred))\n",
    "    return np.mean(acc_scores)"
   ]
  },
  {
   "cell_type": "code",
   "execution_count": 8,
   "id": "20bd645c",
   "metadata": {},
   "outputs": [
    {
     "name": "stdout",
     "output_type": "stream",
     "text": [
      "Learning Rate: 0.001 -> Average Accuracy over Folds: 0.9461\n",
      "Learning Rate: 0.01 -> Average Accuracy over Folds: 0.9838\n",
      "Learning Rate: 0.1 -> Average Accuracy over Folds: 0.9933\n",
      "Learning Rate: 0.0001 -> Average Accuracy over Folds: 0.9162\n"
     ]
    }
   ],
   "source": [
    "# Using different learning rates to evaluate the model's performance\n",
    "learning_rates = [0.001, 0.01, 0.1, 0.0001]\n",
    "folds = k_fold_split(X, Y, k=10)\n",
    "\n",
    "results = []\n",
    "for lr in learning_rates:\n",
    "    avg_acc = evaluate_model(X, Y, lr, folds)\n",
    "    results.append(avg_acc)\n",
    "    print(f\"Learning Rate: {lr} -> Average Accuracy over Folds: {avg_acc:.4f}\")"
   ]
  }
 ],
 "metadata": {
  "kernelspec": {
   "display_name": "Python 3",
   "language": "python",
   "name": "python3"
  },
  "language_info": {
   "codemirror_mode": {
    "name": "ipython",
    "version": 3
   },
   "file_extension": ".py",
   "mimetype": "text/x-python",
   "name": "python",
   "nbconvert_exporter": "python",
   "pygments_lexer": "ipython3",
   "version": "3.13.0"
  }
 },
 "nbformat": 4,
 "nbformat_minor": 5
}
