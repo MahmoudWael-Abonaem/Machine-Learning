{
  "cells": [
    {
      "cell_type": "markdown",
      "id": "35d0b2d9",
      "metadata": {
        "id": "35d0b2d9"
      },
      "source": [
        "## Imports"
      ]
    },
    {
      "cell_type": "code",
      "execution_count": 1,
      "id": "initial_id",
      "metadata": {
        "ExecuteTime": {
          "end_time": "2024-03-12T20:27:29.221137Z",
          "start_time": "2024-03-12T20:27:25.178279Z"
        },
        "collapsed": true,
        "id": "initial_id"
      },
      "outputs": [],
      "source": [
        "import numpy as np\n",
        "from sklearn.svm import SVC\n",
        "from keras.datasets import mnist\n",
        "from sklearn.metrics import accuracy_score\n",
        "from sklearn.model_selection import train_test_split"
      ]
    },
    {
      "cell_type": "markdown",
      "id": "ea00dc3e",
      "metadata": {
        "id": "ea00dc3e"
      },
      "source": [
        "## Loading and Concatenating the Data"
      ]
    },
    {
      "cell_type": "code",
      "execution_count": null,
      "id": "6cb514044786afff",
      "metadata": {
        "ExecuteTime": {
          "end_time": "2024-03-12T20:27:31.849495Z",
          "start_time": "2024-03-12T20:27:31.605569Z"
        },
        "id": "6cb514044786afff"
      },
      "outputs": [],
      "source": [
        "# Load the MNIST dataset\n",
        "(X_Train, Y_Train), (X_Test, Y_Test) = mnist.load_data()\n",
        "\n",
        "# Concatenate the features\n",
        "X = np.concatenate((X_Train, X_Test), axis=0)\n",
        "\n",
        "# Concatenate the labels\n",
        "Y = np.concatenate((Y_Train, Y_Test), axis=0)"
      ]
    },
    {
      "cell_type": "markdown",
      "id": "b76b1f22",
      "metadata": {
        "id": "b76b1f22"
      },
      "source": [
        "## Calculating the Centroid Function"
      ]
    },
    {
      "cell_type": "code",
      "execution_count": 3,
      "id": "86dae7048aad2d3f",
      "metadata": {
        "ExecuteTime": {
          "end_time": "2024-03-12T20:27:35.252278Z",
          "start_time": "2024-03-12T20:27:35.247475Z"
        },
        "id": "86dae7048aad2d3f"
      },
      "outputs": [],
      "source": [
        "def Calculate_Centroid(Block):\n",
        "    X_Bar = 0\n",
        "    Y_Bar = 0\n",
        "    TotalIntensity = 0\n",
        "\n",
        "    for x in range(Block.shape[0]):\n",
        "        for y in range(Block.shape[1]):\n",
        "            f_xy = Block[x, y]\n",
        "            X_Bar += x * f_xy\n",
        "            Y_Bar += y * f_xy\n",
        "            TotalIntensity += f_xy\n",
        "\n",
        "    if TotalIntensity > 0:\n",
        "        X_Bar /= TotalIntensity\n",
        "        Y_Bar /= TotalIntensity\n",
        "\n",
        "    else:\n",
        "        X_Bar = 0\n",
        "        Y_Bar = 0\n",
        "\n",
        "    return X_Bar, Y_Bar"
      ]
    },
    {
      "cell_type": "markdown",
      "id": "ba255894",
      "metadata": {
        "id": "ba255894"
      },
      "source": [
        "## Calculating the Centroid of Each Block"
      ]
    },
    {
      "cell_type": "code",
      "execution_count": 4,
      "id": "8433194c",
      "metadata": {
        "colab": {
          "base_uri": "https://localhost:8080/"
        },
        "id": "8433194c",
        "outputId": "120b4843-0aa9-4abe-a8b3-a5ae17bc78b0"
      },
      "outputs": [
        {
          "name": "stdout",
          "output_type": "stream",
          "text": [
            "Enter the number of Rows: 2\n",
            "Enter the number of Columns: 3\n"
          ]
        }
      ],
      "source": [
        "# Specify the number of rows and columns to divide the image into blocks\n",
        "NumOfRows = int(input(\"Enter the number of Rows: \"))\n",
        "NumOfColumns = int(input(\"Enter the number of Columns: \"))\n",
        "Rows = np.linspace(0, 28, NumOfRows + 1, dtype=int)\n",
        "Columns = np.linspace(0, 28, NumOfColumns + 1, dtype=int)\n",
        "\n",
        "# List to store the list of centroids of each image\n",
        "XY_Centroids = []\n",
        "\n",
        "# Calculate the centroid of each block in image then store the centroids of each image in a list\n",
        "for image in X:\n",
        "      Centroids = []\n",
        "      for i in range(NumOfRows):\n",
        "          for j in range(NumOfColumns):\n",
        "              block = image[Rows[i]:Rows[i+1], Columns[j]:Columns[j+1]]\n",
        "              X_Bar, Y_Bar = Calculate_Centroid(block)\n",
        "              Centroids.append((X_Bar, Y_Bar))\n",
        "      XY_Centroids.append(Centroids)"
      ]
    },
    {
      "cell_type": "code",
      "execution_count": 5,
      "id": "176583512e1cdb42",
      "metadata": {
        "id": "176583512e1cdb42"
      },
      "outputs": [],
      "source": [
        "# Flatten each list of centroid tuples for every image into a one-dimensional array\n",
        "X_Centroids = [np.ravel(image) for image in XY_Centroids]\n",
        "\n",
        "# Split the dataset into training and testing sets\n",
        "X_train, X_test, Y_train, Y_test = train_test_split(X_Centroids, Y, test_size=0.3, random_state=42)"
      ]
    },
    {
      "cell_type": "markdown",
      "id": "622eb4a5",
      "metadata": {
        "id": "622eb4a5"
      },
      "source": [
        "## Classifying the Data"
      ]
    },
    {
      "cell_type": "code",
      "execution_count": 6,
      "id": "d7cdf58e6a499d6",
      "metadata": {
        "colab": {
          "base_uri": "https://localhost:8080/"
        },
        "id": "d7cdf58e6a499d6",
        "outputId": "fd94b813-b584-45f4-f1ff-9812f32fdf22"
      },
      "outputs": [
        {
          "output_type": "stream",
          "name": "stdout",
          "text": [
            "Accuracy: 0.7795714285714286\n"
          ]
        }
      ],
      "source": [
        "# Create an instance of the SVM classifier\n",
        "SVM_Classifier = SVC(kernel='linear')\n",
        "\n",
        "# Fitting the SVM classifier on the training set\n",
        "SVM_Classifier.fit(X_train, Y_train)\n",
        "\n",
        "# Predict the labels of the test set\n",
        "Y_pred = SVM_Classifier.predict(X_test)\n",
        "\n",
        "# Calculate and print the accuracy\n",
        "Accuracy = accuracy_score(Y_test, Y_pred)\n",
        "print(\"Accuracy:\", Accuracy)"
      ]
    }
  ],
  "metadata": {
    "colab": {
      "provenance": []
    },
    "kernelspec": {
      "display_name": "Python 3",
      "name": "python3"
    },
    "language_info": {
      "codemirror_mode": {
        "name": "ipython",
        "version": 3
      },
      "file_extension": ".py",
      "mimetype": "text/x-python",
      "name": "python",
      "nbconvert_exporter": "python",
      "pygments_lexer": "ipython3",
      "version": "3.12.2"
    }
  },
  "nbformat": 4,
  "nbformat_minor": 5
}