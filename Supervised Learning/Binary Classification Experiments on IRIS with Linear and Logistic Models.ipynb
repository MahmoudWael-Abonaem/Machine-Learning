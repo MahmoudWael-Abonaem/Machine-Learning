{
  "cells": [
    {
      "cell_type": "markdown",
      "metadata": {
        "id": "_qk90VNkf6QL"
      },
      "source": [
        "## Imports"
      ]
    },
    {
      "cell_type": "code",
      "execution_count": 1,
      "metadata": {
        "id": "wnYc8ZFaf6QM"
      },
      "outputs": [],
      "source": [
        "import numpy as np\n",
        "from sklearn.datasets import load_iris\n",
        "from sklearn.linear_model import LogisticRegression\n",
        "from sklearn.model_selection import train_test_split"
      ]
    },
    {
      "cell_type": "code",
      "execution_count": 2,
      "metadata": {
        "id": "Q2UjB30Xf6QN"
      },
      "outputs": [],
      "source": [
        "# Calculatig the Accuracy Function\n",
        "def calculate_accuracy(predictions, y):\n",
        "    return np.mean(predictions == y) * 100\n",
        "\n",
        "# Defining the Linear Classifier Function\n",
        "def linear_classifier(x_train, y_train):\n",
        "    b = np.ones((x_train.shape[0], 1))\n",
        "    x = np.hstack((b, x_train))\n",
        "    w = np.dot(np.dot(np.linalg.inv(np.dot(x.T, x)), x.T), y_train)\n",
        "    return w\n",
        "\n",
        "# Defining the Predict Labels Function\n",
        "def predict_labels(x, w):\n",
        "    b = np.ones((x.shape[0], 1))\n",
        "    x = np.hstack((b, x))\n",
        "    y = np.dot(x, w)\n",
        "    predictions = np.where(y >= 0.5, 1, 0)\n",
        "    return predictions"
      ]
    },
    {
      "cell_type": "markdown",
      "metadata": {
        "id": "B6yMJ9WIf6QN"
      },
      "source": [
        "## Merging Class 2 and Class 3"
      ]
    },
    {
      "cell_type": "code",
      "execution_count": 3,
      "metadata": {
        "id": "ovKdW0Zzf6QO"
      },
      "outputs": [],
      "source": [
        "# Loading the IRIS Dataset\n",
        "iris = load_iris()\n",
        "X = iris.data\n",
        "y = iris.target\n",
        "\n",
        "# Group samples of class 2 and class 3 together to form a new class (Class II)\n",
        "y[np.where((y == 2))] = 1\n",
        "\n",
        "# Split Class I samples into 40 samples for training and 10 samples for testing\n",
        "X_class1_1 = X[y == 0]\n",
        "y_class1_1 = y[y == 0]\n",
        "X_class1_train_1, X_class1_test_1, y_class1_train_1, y_class1_test_1 = train_test_split(X_class1_1, y_class1_1, test_size=0.2)\n",
        "\n",
        "# Split Class II samples into 80 samples for training and 20 samples for testing\n",
        "X_class2_1 = X[y == 1]\n",
        "y_class2_1 = y[y == 1]\n",
        "X_class2_train_1, X_class2_test_1, y_class2_train_1, y_class2_test_1 = train_test_split(X_class2_1, y_class2_1, test_size=0.2)"
      ]
    },
    {
      "cell_type": "markdown",
      "metadata": {
        "id": "Ux00aD6Cf6QO"
      },
      "source": [
        "## Combining Training and Testing Data for Classes 2 and 3"
      ]
    },
    {
      "cell_type": "code",
      "execution_count": null,
      "metadata": {
        "id": "vzpR6nOqf6QO"
      },
      "outputs": [],
      "source": [
        "# Combining the training samples of Class I and Class II\n",
        "x_data_train_1 = np.vstack((X_class1_train_1, X_class2_train_1))\n",
        "\n",
        "# Combining the labels of training samples of Class I and Class II\n",
        "y_data_train_1 = np.hstack((y_class1_train_1, y_class2_train_1))\n",
        "\n",
        "# Combining the testing samples of Class I and Class II\n",
        "x_data_test_1 = np.vstack((X_class1_test_1, X_class2_test_1))\n",
        "\n",
        "# Combining the labels of testing samples of Class I and Class\n",
        "y_data_test_1 = np.hstack((y_class1_test_1, y_class2_test_1))"
      ]
    },
    {
      "cell_type": "markdown",
      "metadata": {
        "id": "FwtW8rL3f6QP"
      },
      "source": [
        "## Classifying Using Linear Classifier"
      ]
    },
    {
      "cell_type": "code",
      "execution_count": 5,
      "metadata": {
        "colab": {
          "base_uri": "https://localhost:8080/"
        },
        "id": "x1U02D5hf6QP",
        "outputId": "4442354f-e415-4400-e356-c4bfecc72cb7"
      },
      "outputs": [
        {
          "name": "stdout",
          "output_type": "stream",
          "text": [
            "The accuracy using Linear Classifier is: 100.0\n"
          ]
        }
      ],
      "source": [
        "# Calculating the Weights\n",
        "best_w = linear_classifier(x_data_train_1, y_data_train_1)\n",
        "\n",
        "# Predicting the Labels\n",
        "linear_pred_1 = predict_labels(x_data_test_1, best_w)\n",
        "\n",
        "# Calculating and Printing the Accuracy\n",
        "linear_accuracy_1 = calculate_accuracy(linear_pred_1, y_data_test_1)\n",
        "print(\"The accuracy using Linear Classifier is:\", linear_accuracy_1)"
      ]
    },
    {
      "cell_type": "markdown",
      "metadata": {
        "id": "S2ijbwhjf6QP"
      },
      "source": [
        "## Classifying with Logistic Regression"
      ]
    },
    {
      "cell_type": "code",
      "execution_count": 6,
      "metadata": {
        "colab": {
          "base_uri": "https://localhost:8080/"
        },
        "id": "pIO5As4df6QP",
        "outputId": "63bcd36c-d868-4b47-fcf4-23ae935a6c2b"
      },
      "outputs": [
        {
          "name": "stdout",
          "output_type": "stream",
          "text": [
            "The accuracy using Logistic Regression is: 100.0\n"
          ]
        }
      ],
      "source": [
        "# Fitting the model on training data\n",
        "logistic_model_1 = LogisticRegression()\n",
        "logistic_model_1.fit(x_data_train_1, y_data_train_1)\n",
        "\n",
        "# Classify test samples\n",
        "logistic_pred_1 = logistic_model_1.predict(x_data_test_1)\n",
        "\n",
        "# Calculating and Printing the Accuracy\n",
        "logistic_accuracy_1 = calculate_accuracy(logistic_pred_1, y_data_test_1)\n",
        "print(\"The accuracy using Logistic Regression is:\", logistic_accuracy_1)"
      ]
    },
    {
      "cell_type": "markdown",
      "metadata": {
        "id": "EpRVoh-Af6QP"
      },
      "source": [
        "## Merging Class 1 and Class 3"
      ]
    },
    {
      "cell_type": "code",
      "execution_count": 7,
      "metadata": {
        "id": "dXT3uXjof6QP"
      },
      "outputs": [],
      "source": [
        "# Loading the IRIS dataset\n",
        "iris = load_iris()\n",
        "X = iris.data\n",
        "y = iris.target\n",
        "\n",
        "# Group samples of class 1 and class 3 together to form a new class (Class II)\n",
        "y[np.where((y == 2))] = 0\n",
        "\n",
        "# Split Class I samples into 40 samples for training and 10 samples for testing\n",
        "X_class1_2 = X[y == 0]\n",
        "y_class1_2 = y[y == 0]\n",
        "X_class1_train_2, X_class1_test_2, y_class1_train_2, y_class1_test_2 = train_test_split(X_class1_2, y_class1_2, test_size=0.2)\n",
        "\n",
        "# Split Class II samples into 80 samples for training and 20 samples for testing\n",
        "X_class2_2 = X[y == 1]\n",
        "y_class2_2 = y[y == 1]\n",
        "X_class2_train_2, X_class2_test_2, y_class2_train_2, y_class2_test_2 = train_test_split(X_class2_2, y_class2_2, test_size=0.2)"
      ]
    },
    {
      "cell_type": "markdown",
      "metadata": {
        "id": "lSTNe2Onf6QQ"
      },
      "source": [
        "## Combining Training and Testing Data for Classes 1 and 3"
      ]
    },
    {
      "cell_type": "code",
      "execution_count": 8,
      "metadata": {
        "id": "AuHaYl-xf6QQ"
      },
      "outputs": [],
      "source": [
        "# Combining the training samples of Class I and Class II\n",
        "x_data_train_2 = np.vstack((X_class1_train_2, X_class2_train_2))\n",
        "\n",
        "# Combining the labels of training samples of Class I and Class\n",
        "y_data_train_2 = np.hstack((y_class1_train_2, y_class2_train_2))\n",
        "\n",
        "# Combining the testing samples of Class I and Class II\n",
        "x_data_test_2 = np.vstack((X_class1_test_2, X_class2_test_2))\n",
        "\n",
        "# Combining the labels of testing samples of Class I and Class\n",
        "y_data_test_2 = np.hstack((y_class1_test_2, y_class2_test_2))"
      ]
    },
    {
      "cell_type": "markdown",
      "metadata": {
        "id": "hvHRn2xjf6QQ"
      },
      "source": [
        "## Classifying Using Linear Classifier"
      ]
    },
    {
      "cell_type": "code",
      "execution_count": 9,
      "metadata": {
        "colab": {
          "base_uri": "https://localhost:8080/"
        },
        "id": "-oAoSZwkf6QQ",
        "outputId": "09294440-9439-485e-9a2b-d32b7e9b288b"
      },
      "outputs": [
        {
          "name": "stdout",
          "output_type": "stream",
          "text": [
            "The accuracy using Linear Classifier is: 73.33333333333333\n"
          ]
        }
      ],
      "source": [
        "# Calculating the Weights\n",
        "best_w_2 = linear_classifier(x_data_train_2, y_data_train_2)\n",
        "\n",
        "# Predicting the Labels\n",
        "linear_pred_2 = predict_labels(x_data_test_2, best_w_2)\n",
        "\n",
        "# Calculating and Printing the Accuracy\n",
        "linear_accuracy_2 = calculate_accuracy(linear_pred_2, y_data_test_2)\n",
        "print(\"The accuracy using Linear Classifier is:\", linear_accuracy_2)"
      ]
    },
    {
      "cell_type": "markdown",
      "metadata": {
        "id": "Z5Sprfxwf6QQ"
      },
      "source": [
        "## Classifying with Logistic Regression"
      ]
    },
    {
      "cell_type": "code",
      "execution_count": 10,
      "metadata": {
        "colab": {
          "base_uri": "https://localhost:8080/"
        },
        "id": "SJvE0lpif6QQ",
        "outputId": "8e387ce8-b4d1-4087-a975-67fe41c47739"
      },
      "outputs": [
        {
          "name": "stdout",
          "output_type": "stream",
          "text": [
            "The accuracy using Logistic Regression is: 70.0\n"
          ]
        }
      ],
      "source": [
        "# Fitting the model on training data\n",
        "logistic_model_2 = LogisticRegression()\n",
        "logistic_model_2.fit(x_data_train_2, y_data_train_2)\n",
        "\n",
        "# Classify test samples\n",
        "logistic_pred_2 = logistic_model_2.predict(x_data_test_2)\n",
        "\n",
        "# Calculating and Printing the Accuracy\n",
        "logistic_accuracy_2 = calculate_accuracy(logistic_pred_2, y_data_test_2)\n",
        "print(\"The accuracy using Logistic Regression is:\", logistic_accuracy_2)"
      ]
    },
    {
      "cell_type": "markdown",
      "metadata": {
        "id": "mhCWW2vqf6QR"
      },
      "source": [
        "## Merging Class 1 and Class 2"
      ]
    },
    {
      "cell_type": "code",
      "execution_count": 11,
      "metadata": {
        "id": "oxFy_ZMHf6QR"
      },
      "outputs": [],
      "source": [
        "# Loading the IRIS dataset\n",
        "iris = load_iris()\n",
        "X = iris.data\n",
        "y = iris.target\n",
        "\n",
        "# Group samples of class 1 and class 2 together to form a new class (Class II)\n",
        "y[np.where((y == 1))] = 0\n",
        "y[np.where((y == 2))] = 1\n",
        "\n",
        "# Split Class I samples into 40 samples for training and 10 samples for testing\n",
        "X_class1_3 = X[y == 0]\n",
        "y_class1_3 = y[y == 0]\n",
        "X_class1_train_3, X_class1_test_3, y_class1_train_3, y_class1_test_3 = train_test_split(X_class1_3, y_class1_3, test_size=0.2)\n",
        "\n",
        "# Split Class II samples into 80 samples for training and 20 samples for testing\n",
        "X_class2_3 = X[y == 1]\n",
        "y_class2_3 = y[y == 1]\n",
        "X_class2_train_3, X_class2_test_3, y_class2_train_3, y_class2_test_3 = train_test_split(X_class2_3, y_class2_3, test_size=0.2)"
      ]
    },
    {
      "cell_type": "markdown",
      "metadata": {
        "id": "eSC9Ml4Ff6QR"
      },
      "source": [
        "## Combining Training and Testing Data for Classes 1 and 2"
      ]
    },
    {
      "cell_type": "code",
      "execution_count": 12,
      "metadata": {
        "id": "sOFy8Cqof6QR"
      },
      "outputs": [],
      "source": [
        "# Combining the training samples of Class I and Class II\n",
        "x_data_train_3 = np.vstack((X_class1_train_3, X_class2_train_3))\n",
        "\n",
        "# Combining the labels of training samples of Class I and Class\n",
        "y_data_train_3 = np.hstack((y_class1_train_3, y_class2_train_3))\n",
        "\n",
        "# Combining the testing samples of Class I and Class II\n",
        "x_data_test_3 = np.vstack((X_class1_test_3, X_class2_test_3))\n",
        "\n",
        "# Combining the labels of testing samples of Class I and Class\n",
        "y_data_test_3 = np.hstack((y_class1_test_3, y_class2_test_3))"
      ]
    },
    {
      "cell_type": "markdown",
      "metadata": {
        "id": "-Ufcb6_Df6QR"
      },
      "source": [
        "## Classifying Using Linear Classifier"
      ]
    },
    {
      "cell_type": "code",
      "execution_count": 13,
      "metadata": {
        "colab": {
          "base_uri": "https://localhost:8080/"
        },
        "id": "SfRwNVn9f6QR",
        "outputId": "9ab51b5a-80fa-43e3-a3d8-71f0098b2f1e"
      },
      "outputs": [
        {
          "name": "stdout",
          "output_type": "stream",
          "text": [
            "The accuracy using Linear Classifier is: 86.66666666666667\n"
          ]
        }
      ],
      "source": [
        "# Calculating the Weights\n",
        "best_w_3 = linear_classifier(x_data_train_3, y_data_train_3)\n",
        "\n",
        "# Predicting the Labels\n",
        "linear_pred_3 = predict_labels(x_data_test_3, best_w_3)\n",
        "\n",
        "# Calculating and Printing the Accuracy\n",
        "linear_accuracy_3 = calculate_accuracy(linear_pred_3, y_data_test_3)\n",
        "print(\"The accuracy using Linear Classifier is:\", linear_accuracy_3)"
      ]
    },
    {
      "cell_type": "markdown",
      "metadata": {
        "id": "1v1zLi3nf6QR"
      },
      "source": [
        "## Classifying with Logistic Regression"
      ]
    },
    {
      "cell_type": "code",
      "execution_count": 14,
      "metadata": {
        "colab": {
          "base_uri": "https://localhost:8080/"
        },
        "id": "kJkAx1-af6QS",
        "outputId": "13402806-559e-479e-bd46-7595773304d5"
      },
      "outputs": [
        {
          "name": "stdout",
          "output_type": "stream",
          "text": [
            "The accuracy using Logistic Regression is: 60.0\n"
          ]
        }
      ],
      "source": [
        "# Fitting the model on training data\n",
        "logistic_model_3 = LogisticRegression()\n",
        "logistic_model_3.fit(x_data_train_3, y_data_train_3)\n",
        "\n",
        "# Classify test samples\n",
        "logistic_pred_3 = logistic_model_1.predict(x_data_test_3)\n",
        "\n",
        "# Calculating and Printing the Accuracy\n",
        "logistic_accuracy_3 = calculate_accuracy(logistic_pred_3, y_data_test_3)\n",
        "print(\"The accuracy using Logistic Regression is:\", logistic_accuracy_3)"
      ]
    }
  ],
  "metadata": {
    "colab": {
      "provenance": []
    },
    "kernelspec": {
      "display_name": "Python 3",
      "name": "python3"
    },
    "language_info": {
      "codemirror_mode": {
        "name": "ipython",
        "version": 3
      },
      "file_extension": ".py",
      "mimetype": "text/x-python",
      "name": "python",
      "nbconvert_exporter": "python",
      "pygments_lexer": "ipython3",
      "version": "3.13.0"
    }
  },
  "nbformat": 4,
  "nbformat_minor": 0
}
