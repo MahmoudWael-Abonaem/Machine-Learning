{
 "cells": [
  {
   "cell_type": "markdown",
   "metadata": {},
   "source": [
    "## Imports"
   ]
  },
  {
   "cell_type": "code",
   "execution_count": 3,
   "metadata": {
    "colab": {
     "base_uri": "https://localhost:8080/"
    },
    "execution": {
     "iopub.execute_input": "2024-05-21T21:32:17.499949Z",
     "iopub.status.busy": "2024-05-21T21:32:17.499186Z",
     "iopub.status.idle": "2024-05-21T21:32:17.507411Z",
     "shell.execute_reply": "2024-05-21T21:32:17.505937Z",
     "shell.execute_reply.started": "2024-05-21T21:32:17.499891Z"
    },
    "id": "QOMJIF1Oudcx",
    "outputId": "1a3bb4f4-f986-49d3-a7a5-049338fed275",
    "trusted": true
   },
   "outputs": [],
   "source": [
    "import numpy as np\n",
    "import pandas as pd\n",
    "from sklearn.model_selection import train_test_split\n",
    "from sklearn.discriminant_analysis import LinearDiscriminantAnalysis"
   ]
  },
  {
   "cell_type": "code",
   "execution_count": 4,
   "metadata": {
    "execution": {
     "iopub.execute_input": "2024-05-21T21:32:19.461741Z",
     "iopub.status.busy": "2024-05-21T21:32:19.461224Z",
     "iopub.status.idle": "2024-05-21T21:32:19.476045Z",
     "shell.execute_reply": "2024-05-21T21:32:19.474189Z",
     "shell.execute_reply.started": "2024-05-21T21:32:19.461707Z"
    },
    "trusted": true
   },
   "outputs": [],
   "source": [
    "# Defining the Shuffling Function\n",
    "def my_shuffle_data(X, y):\n",
    "    idx = np.arange(X.shape[0])\n",
    "    np.random.shuffle(idx)\n",
    "    return X.iloc[idx], y.iloc[idx]\n",
    "\n",
    "# Claculatig the Accuracy Function\n",
    "def calculate_accuracy(predictions, y):\n",
    "    return np.mean(predictions == y) * 100\n",
    "\n",
    "# Defining the Linear Classifier Function\n",
    "def linear_classifier(x_train, y_train):\n",
    "        b = np.ones((x_train.shape[0], 1))\n",
    "        x = np.hstack((b, x_train))\n",
    "        w = np.dot(np.dot(np.linalg.inv(np.dot(x.T, x)), x.T), y_train)\n",
    "        return w\n",
    "\n",
    "# Predicting the Labels Function\n",
    "def predict_labels(x, w):\n",
    "    b = np.ones((x.shape[0], 1))\n",
    "    x = np.hstack((b, x))\n",
    "    y = np.dot(x, w)\n",
    "    predictions = np.where(y >= 0.5, 1, 0)\n",
    "    return predictions\n",
    "\n",
    "# Feature Reduction using LDA (Linear Discriminant Analysis)\n",
    "def feature_reduction(X, y, num_components):\n",
    "    lda = LinearDiscriminantAnalysis(n_components=num_components)\n",
    "    X_reduced = lda.fit_transform(X, y)\n",
    "    return X_reduced"
   ]
  },
  {
   "cell_type": "markdown",
   "metadata": {},
   "source": [
    "## Applying the LDA on the features of the dataset"
   ]
  },
  {
   "cell_type": "code",
   "execution_count": 5,
   "metadata": {
    "colab": {
     "base_uri": "https://localhost:8080/"
    },
    "execution": {
     "iopub.execute_input": "2024-05-21T21:32:22.464209Z",
     "iopub.status.busy": "2024-05-21T21:32:22.463811Z",
     "iopub.status.idle": "2024-05-21T21:32:22.545415Z",
     "shell.execute_reply": "2024-05-21T21:32:22.544212Z",
     "shell.execute_reply.started": "2024-05-21T21:32:22.464180Z"
    },
    "id": "X8EH3jIFQ2vn",
    "outputId": "29ce9e67-d228-4e2e-cbf4-8436f8fc6eb6",
    "trusted": true
   },
   "outputs": [
    {
     "name": "stdout",
     "output_type": "stream",
     "text": [
      "The accuracy is: 57.377049180327866\n"
     ]
    }
   ],
   "source": [
    "# Reading the Dataset\n",
    "data = pd.read_csv('/kaggle/input/heart-attack-analysis-prediction-dataset/heart.csv')\n",
    "\n",
    "# Splitting the Data into Features and Labels\n",
    "X = data.drop('output', axis=1)\n",
    "y = data['output']\n",
    "\n",
    "# Calculating the Mean and Standard Deviation of the Features\n",
    "mean_features = X.mean()\n",
    "stddev_features = X.std()\n",
    "\n",
    "# Concatenate Mean and Standard Deviation Features with Original Features\n",
    "X_mean_stddev = pd.concat([mean_features, stddev_features], axis=0)\n",
    "X_mean_stddev.columns = ['mean', 'stddev']\n",
    "\n",
    "# Replicating the Mean and Standard Deviation Features for all Samples\n",
    "X_mean_stddev = np.tile(X_mean_stddev.values.flatten(), (X.shape[0], 1))\n",
    "\n",
    "# Applying the LDA for Feature Reduction\n",
    "num_components = 1\n",
    "X_reduced = pd.DataFrame(feature_reduction(X_mean_stddev, y, num_components))\n",
    "\n",
    "# Splitting the Data into Training and Testing Sets\n",
    "x_train, x_test, y_train, y_test = train_test_split(X_reduced, y, test_size=0.2)\n",
    "\n",
    "# Calculating the Weights\n",
    "best_w = linear_classifier(x_train, y_train)\n",
    "\n",
    "# Predicting the Labels\n",
    "y_pred = predict_labels(x_test, best_w)\n",
    "\n",
    "# Calculating the Accuracy\n",
    "accuracy = calculate_accuracy(y_pred, y_test)\n",
    "print(\"The accuracy is:\", accuracy)"
   ]
  },
  {
   "cell_type": "markdown",
   "metadata": {},
   "source": [
    "## Applying the LDA directly on the dataset"
   ]
  },
  {
   "cell_type": "code",
   "execution_count": 6,
   "metadata": {
    "execution": {
     "iopub.execute_input": "2024-05-21T21:32:25.862154Z",
     "iopub.status.busy": "2024-05-21T21:32:25.861574Z",
     "iopub.status.idle": "2024-05-21T21:32:25.887939Z",
     "shell.execute_reply": "2024-05-21T21:32:25.886768Z",
     "shell.execute_reply.started": "2024-05-21T21:32:25.862110Z"
    },
    "trusted": true
   },
   "outputs": [
    {
     "name": "stdout",
     "output_type": "stream",
     "text": [
      "The accuracy is: 93.44262295081968\n"
     ]
    }
   ],
   "source": [
    "# Reading the Dataset\n",
    "data = pd.read_csv('/kaggle/input/heart-attack-analysis-prediction-dataset/heart.csv')\n",
    "\n",
    "# Splitting the Data into Features and Labels\n",
    "X = data.drop('output', axis=1)\n",
    "y = data['output']\n",
    "\n",
    "# Applying the LDA for Feature Reduction\n",
    "num_components = 1\n",
    "X_reduced = pd.DataFrame(feature_reduction(X, y, num_components))\n",
    "\n",
    "# Splitting the Data into Training and Testing Sets\n",
    "x_train, x_test, y_train, y_test = train_test_split(X_reduced, y, test_size=0.2)\n",
    "\n",
    "# Calculating the Weights\n",
    "best_w = linear_classifier(x_train, y_train)\n",
    "\n",
    "# Predicting the Labels\n",
    "y_pred = predict_labels(x_test, best_w)\n",
    "\n",
    "# Calculating the Accuracy\n",
    "accuracy = calculate_accuracy(y_pred, y_test)\n",
    "print(\"The accuracy is:\", accuracy)"
   ]
  }
 ],
 "metadata": {
  "colab": {
   "provenance": []
  },
  "kaggle": {
   "accelerator": "none",
   "dataSources": [
    {
     "datasetId": 1226038,
     "sourceId": 2047221,
     "sourceType": "datasetVersion"
    }
   ],
   "dockerImageVersionId": 30698,
   "isGpuEnabled": false,
   "isInternetEnabled": true,
   "language": "python",
   "sourceType": "notebook"
  },
  "kernelspec": {
   "display_name": "Python 3",
   "language": "python",
   "name": "python3"
  },
  "language_info": {
   "codemirror_mode": {
    "name": "ipython",
    "version": 3
   },
   "file_extension": ".py",
   "mimetype": "text/x-python",
   "name": "python",
   "nbconvert_exporter": "python",
   "pygments_lexer": "ipython3",
   "version": "3.10.13"
  }
 },
 "nbformat": 4,
 "nbformat_minor": 4
}
