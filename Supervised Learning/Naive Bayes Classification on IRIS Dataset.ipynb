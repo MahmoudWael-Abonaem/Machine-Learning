{
 "cells": [
  {
   "cell_type": "markdown",
   "metadata": {},
   "source": [
    "## Imports"
   ]
  },
  {
   "cell_type": "code",
   "execution_count": 1,
   "metadata": {
    "execution": {
     "iopub.execute_input": "2024-04-30T15:50:17.028359Z",
     "iopub.status.busy": "2024-04-30T15:50:17.027845Z",
     "iopub.status.idle": "2024-04-30T15:50:17.034701Z",
     "shell.execute_reply": "2024-04-30T15:50:17.033518Z",
     "shell.execute_reply.started": "2024-04-30T15:50:17.028308Z"
    },
    "trusted": true
   },
   "outputs": [],
   "source": [
    "import numpy as np\n",
    "from scipy.stats import norm\n",
    "from sklearn.datasets import load_iris\n",
    "from sklearn.model_selection import train_test_split"
   ]
  },
  {
   "cell_type": "markdown",
   "metadata": {},
   "source": [
    "## Loading and Splitting the Data"
   ]
  },
  {
   "cell_type": "code",
   "execution_count": 8,
   "metadata": {
    "execution": {
     "iopub.execute_input": "2024-04-30T15:50:17.050227Z",
     "iopub.status.busy": "2024-04-30T15:50:17.049362Z",
     "iopub.status.idle": "2024-04-30T15:50:17.061778Z",
     "shell.execute_reply": "2024-04-30T15:50:17.060249Z",
     "shell.execute_reply.started": "2024-04-30T15:50:17.050184Z"
    },
    "trusted": true
   },
   "outputs": [],
   "source": [
    "# Loading the dataset\n",
    "iris = load_iris()\n",
    "\n",
    "# Splitting the dataset into features and labels\n",
    "X, y = iris.data, iris.target\n",
    "\n",
    "# Splitting the dataset into training and testing sets\n",
    "X_train, X_test, y_train, y_test = train_test_split(X, y, test_size=0.2, random_state=42)\n",
    "\n",
    "'''\n",
    "Calculate and store the mean and standard deviation of features for each class in the training data.\n",
    "This is useful for Naive Bayes classification, where we assume that features follow a Gaussian distribution.\n",
    "'''\n",
    "class_features_mean = {}\n",
    "class_features_std = {}\n",
    "for clss in np.unique(y_train):\n",
    "    X_class = X_train[y_train == clss]\n",
    "    class_features_mean[clss] = np.mean(X_class, axis=0)\n",
    "    class_features_std[clss] = np.std(X_class, axis=0)"
   ]
  },
  {
   "cell_type": "markdown",
   "metadata": {},
   "source": [
    "## Defining the Naive Bayes Function"
   ]
  },
  {
   "cell_type": "code",
   "execution_count": 9,
   "metadata": {
    "execution": {
     "iopub.execute_input": "2024-04-30T15:50:17.065172Z",
     "iopub.status.busy": "2024-04-30T15:50:17.064595Z",
     "iopub.status.idle": "2024-04-30T15:50:17.074504Z",
     "shell.execute_reply": "2024-04-30T15:50:17.073064Z",
     "shell.execute_reply.started": "2024-04-30T15:50:17.065122Z"
    },
    "trusted": true
   },
   "outputs": [],
   "source": [
    "def naive_bayes(sample):\n",
    "    probabilities = []\n",
    "    for clss in np.unique(y_train):\n",
    "        # Calculate the likelihood of the sample\n",
    "        likelihood = np.prod(norm.pdf(sample, loc=class_features_mean[clss], scale=class_features_std[clss]))\n",
    "        # Calculate the prior probability\n",
    "        prior = np.mean(y_train == clss)\n",
    "        # Calculate the posterior probability\n",
    "        posterior = likelihood * prior\n",
    "        probabilities.append(posterior)\n",
    "    return np.argmax(probabilities)"
   ]
  },
  {
   "cell_type": "markdown",
   "metadata": {},
   "source": [
    "## Classifying the Data"
   ]
  },
  {
   "cell_type": "code",
   "execution_count": 10,
   "metadata": {
    "execution": {
     "iopub.execute_input": "2024-04-30T15:50:17.077002Z",
     "iopub.status.busy": "2024-04-30T15:50:17.076585Z",
     "iopub.status.idle": "2024-04-30T15:50:17.102911Z",
     "shell.execute_reply": "2024-04-30T15:50:17.101659Z",
     "shell.execute_reply.started": "2024-04-30T15:50:17.076970Z"
    },
    "trusted": true
   },
   "outputs": [
    {
     "name": "stdout",
     "output_type": "stream",
     "text": [
      "Accuracy: 0.9666666666666667\n"
     ]
    }
   ],
   "source": [
    "# Generating predictions for the test data\n",
    "predictions = [naive_bayes(sample) for sample in X_test]\n",
    "\n",
    "# Calculating and Printing the accuracy\n",
    "accuracy = np.mean(predictions == y_test)\n",
    "print(\"Accuracy:\", accuracy)"
   ]
  }
 ],
 "metadata": {
  "accelerator": "GPU",
  "colab": {
   "gpuType": "T4",
   "provenance": []
  },
  "kaggle": {
   "accelerator": "none",
   "dataSources": [
    {
     "datasetId": 8782,
     "sourceId": 2431805,
     "sourceType": "datasetVersion"
    }
   ],
   "dockerImageVersionId": 30699,
   "isGpuEnabled": false,
   "isInternetEnabled": true,
   "language": "python",
   "sourceType": "notebook"
  },
  "kernelspec": {
   "display_name": "Python 3",
   "language": "python",
   "name": "python3"
  },
  "language_info": {
   "codemirror_mode": {
    "name": "ipython",
    "version": 3
   },
   "file_extension": ".py",
   "mimetype": "text/x-python",
   "name": "python",
   "nbconvert_exporter": "python",
   "pygments_lexer": "ipython3",
   "version": "3.12.3"
  }
 },
 "nbformat": 4,
 "nbformat_minor": 4
}
